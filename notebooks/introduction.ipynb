{
 "cells": [
  {
   "cell_type": "code",
   "execution_count": 1,
   "id": "55d193fa-20fc-47ca-bde4-fb14cb0d6811",
   "metadata": {},
   "outputs": [
    {
     "name": "stdout",
     "output_type": "stream",
     "text": [
      "sklearn version:  1.2.2\n",
      "seaborn version:  0.12.2\n",
      "pandas version:  1.5.3\n"
     ]
    },
    {
     "name": "stderr",
     "output_type": "stream",
     "text": [
      "2023-05-03 10:35:54.519499: I tensorflow/core/util/port.cc:110] oneDNN custom operations are on. You may see slightly different numerical results due to floating-point round-off errors from different computation orders. To turn them off, set the environment variable `TF_ENABLE_ONEDNN_OPTS=0`.\n",
      "2023-05-03 10:35:54.533934: I tensorflow/tsl/cuda/cudart_stub.cc:28] Could not find cuda drivers on your machine, GPU will not be used.\n",
      "2023-05-03 10:35:54.581158: I tensorflow/tsl/cuda/cudart_stub.cc:28] Could not find cuda drivers on your machine, GPU will not be used.\n",
      "2023-05-03 10:35:54.581794: I tensorflow/core/platform/cpu_feature_guard.cc:182] This TensorFlow binary is optimized to use available CPU instructions in performance-critical operations.\n",
      "To enable the following instructions: AVX2 AVX512F AVX512_VNNI FMA, in other operations, rebuild TensorFlow with the appropriate compiler flags.\n",
      "2023-05-03 10:35:55.126368: W tensorflow/compiler/tf2tensorrt/utils/py_utils.cc:38] TF-TRT Warning: Could not find TensorRT\n"
     ]
    },
    {
     "name": "stdout",
     "output_type": "stream",
     "text": [
      "Keras version:  2.12.0\n",
      "Tensorflow version:  2.12.0\n",
      "2.12.0\n"
     ]
    }
   ],
   "source": [
    "import sklearn\n",
    "print('sklearn version: ', sklearn.__version__)\n",
    "\n",
    "import seaborn\n",
    "print('seaborn version: ', seaborn.__version__)\n",
    "\n",
    "import pandas\n",
    "print('pandas version: ', pandas.__version__)\n",
    "\n",
    "from tensorflow import keras\n",
    "print('Keras version: ', keras.__version__)\n",
    "\n",
    "import tensorflow\n",
    "print('Tensorflow version: ', tensorflow.__version__)\n",
    "\n",
    "\n",
    "from tensorflow import keras\n",
    "print(keras.__version__)\n",
    "\n"
   ]
  },
  {
   "cell_type": "markdown",
   "id": "64185ae7-2848-4ef4-9957-e020d4f8438c",
   "metadata": {},
   "source": [
    "-.25 + 0.5 = 0.25\n",
    "f(x) = max(1.25, 0) = 1.25\n"
   ]
  }
 ],
 "metadata": {
  "kernelspec": {
   "display_name": "Python 3 (ipykernel)",
   "language": "python",
   "name": "python3"
  },
  "language_info": {
   "codemirror_mode": {
    "name": "ipython",
    "version": 3
   },
   "file_extension": ".py",
   "mimetype": "text/x-python",
   "name": "python",
   "nbconvert_exporter": "python",
   "pygments_lexer": "ipython3",
   "version": "3.11.3"
  }
 },
 "nbformat": 4,
 "nbformat_minor": 5
}
